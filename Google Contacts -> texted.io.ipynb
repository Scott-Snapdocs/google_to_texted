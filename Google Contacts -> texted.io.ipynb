{
 "cells": [
  {
   "cell_type": "code",
   "execution_count": 1,
   "metadata": {
    "collapsed": true
   },
   "outputs": [],
   "source": [
    "import pandas as pd"
   ]
  },
  {
   "cell_type": "code",
   "execution_count": 34,
   "metadata": {
    "collapsed": false
   },
   "outputs": [],
   "source": [
    "#read in the file\n",
    "df = pd.read_csv('contacts.csv') #, encoding='iso-8859-1')\n",
    "\n",
    "#first names are the index, so reset it and pull the right columns\n",
    "df.reset_index(inplace=True)\n",
    "df = df[['index', 'Middle Name', 'Home Phone 2', 'Primary Phone']]\n",
    "df.columns = ['First', 'Last', 'Phone', 'Phone alt']"
   ]
  },
  {
   "cell_type": "code",
   "execution_count": 35,
   "metadata": {
    "collapsed": false
   },
   "outputs": [],
   "source": [
    "import re"
   ]
  },
  {
   "cell_type": "code",
   "execution_count": 36,
   "metadata": {
    "collapsed": false
   },
   "outputs": [],
   "source": [
    "#drop any row without a number\n",
    "df = df[(df['Phone'].notnull()) | df['Phone alt'].notnull()]"
   ]
  },
  {
   "cell_type": "code",
   "execution_count": 17,
   "metadata": {
    "collapsed": false
   },
   "outputs": [],
   "source": []
  },
  {
   "cell_type": "code",
   "execution_count": 37,
   "metadata": {
    "collapsed": false
   },
   "outputs": [],
   "source": [
    "#number cleaning\n",
    "def clean_number(row):\n",
    "    #check to see which number exists, default to Phone\n",
    "    p = row['Phone']\n",
    "    p_alt = row['Phone alt']\n",
    "    if pd.isnull(p):\n",
    "        p = p_alt\n",
    "    \n",
    "    \n",
    "    #scrub it for just numbers\n",
    "    cp = re.sub('[^0-9]', '', p)\n",
    "    if len(cp) == 11: #includes preceding 1\n",
    "        return cp[1:]\n",
    "    if len(cp) > 10: #weird numbers\n",
    "        return 'weird'\n",
    "    return cp"
   ]
  },
  {
   "cell_type": "code",
   "execution_count": 38,
   "metadata": {
    "collapsed": false
   },
   "outputs": [],
   "source": [
    "#clean up the numbers\n",
    "df['Phone Number'] = df.apply(clean_number, axis=1)"
   ]
  },
  {
   "cell_type": "code",
   "execution_count": 41,
   "metadata": {
    "collapsed": false
   },
   "outputs": [],
   "source": [
    "#remove nonUS, 800 numbers\n",
    "df = df[df['Phone Number']!='weird'] \n",
    "\n",
    "#drop any row without a first or last name\n",
    "df = df[(df['First'].notnull()) | (df['Last'].notnull())]"
   ]
  },
  {
   "cell_type": "code",
   "execution_count": 42,
   "metadata": {
    "collapsed": false
   },
   "outputs": [],
   "source": [
    "import math"
   ]
  },
  {
   "cell_type": "code",
   "execution_count": 48,
   "metadata": {
    "collapsed": false
   },
   "outputs": [],
   "source": []
  },
  {
   "cell_type": "code",
   "execution_count": 126,
   "metadata": {
    "collapsed": false
   },
   "outputs": [],
   "source": [
    "limit = 100\n",
    "nrows = df.shape[0]\n",
    "iterations = math.ceil(nrows/limit)\n",
    "\n",
    "for i in range(iterations):\n",
    "    end = limit * (i+1)\n",
    "    if nrows < end:\n",
    "        end = nrows\n",
    "\n",
    "    my_df = df.iloc[i*limit:end]\n",
    "    my_df = my_df[['First', 'Last', 'Phone Number']]\n",
    "    file = 'cleaned contacts - ' + str(i+1) + '.csv'\n",
    "    my_df.to_csv(file, index=False)"
   ]
  },
  {
   "cell_type": "code",
   "execution_count": null,
   "metadata": {
    "collapsed": false
   },
   "outputs": [],
   "source": []
  },
  {
   "cell_type": "code",
   "execution_count": null,
   "metadata": {
    "collapsed": true
   },
   "outputs": [],
   "source": []
  }
 ],
 "metadata": {
  "kernelspec": {
   "display_name": "Python 3",
   "language": "python",
   "name": "python3"
  },
  "language_info": {
   "codemirror_mode": {
    "name": "ipython",
    "version": 3
   },
   "file_extension": ".py",
   "mimetype": "text/x-python",
   "name": "python",
   "nbconvert_exporter": "python",
   "pygments_lexer": "ipython3",
   "version": "3.5.2"
  }
 },
 "nbformat": 4,
 "nbformat_minor": 2
}
